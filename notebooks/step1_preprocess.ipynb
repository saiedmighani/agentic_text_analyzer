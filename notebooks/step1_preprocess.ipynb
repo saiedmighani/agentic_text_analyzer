{
 "cells": [
  {
   "cell_type": "markdown",
   "id": "bcab8dd6",
   "metadata": {},
   "source": [
    "# Imports"
   ]
  },
  {
   "cell_type": "code",
   "execution_count": 1,
   "id": "bd708912",
   "metadata": {},
   "outputs": [],
   "source": [
    "# NLP packages\n",
    "import nltk\n",
    "from nltk.corpus import reuters, stopwords\n",
    "from nltk.stem import PorterStemmer, WordNetLemmatizer\n",
    "from nltk.tokenize import word_tokenize\n",
    "import re\n",
    "# General packages\n",
    "import os\n",
    "import pandas as pd\n",
    "import string\n",
    "import numpy as np\n",
    "import seaborn as sns\n",
    "import matplotlib.pyplot as plt\n"
   ]
  },
  {
   "cell_type": "code",
   "execution_count": 2,
   "id": "01ef6d8b",
   "metadata": {},
   "outputs": [
    {
     "name": "stderr",
     "output_type": "stream",
     "text": [
      "[nltk_data] Downloading package punkt to /Users/sm/nltk_data...\n",
      "[nltk_data]   Package punkt is already up-to-date!\n",
      "[nltk_data] Downloading package punkt_tab to /Users/sm/nltk_data...\n",
      "[nltk_data]   Package punkt_tab is already up-to-date!\n",
      "[nltk_data] Downloading package stopwords to /Users/sm/nltk_data...\n",
      "[nltk_data]   Package stopwords is already up-to-date!\n",
      "[nltk_data] Downloading package wordnet to /Users/sm/nltk_data...\n",
      "[nltk_data]   Package wordnet is already up-to-date!\n",
      "[nltk_data] Downloading package omw-1.4 to /Users/sm/nltk_data...\n",
      "[nltk_data]   Package omw-1.4 is already up-to-date!\n"
     ]
    },
    {
     "data": {
      "text/plain": [
       "True"
      ]
     },
     "execution_count": 2,
     "metadata": {},
     "output_type": "execute_result"
    }
   ],
   "source": [
    "# Download required NLTK data\n",
    "nltk.download('punkt')\n",
    "nltk.download(\"punkt_tab\")\n",
    "nltk.download('stopwords')\n",
    "nltk.download('wordnet')\n",
    "nltk.download('omw-1.4')\n"
   ]
  },
  {
   "cell_type": "markdown",
   "id": "ff48e8ea",
   "metadata": {},
   "source": [
    "# Downloading Reuters corpus"
   ]
  },
  {
   "cell_type": "code",
   "execution_count": 3,
   "id": "7fd8c7e1",
   "metadata": {},
   "outputs": [
    {
     "name": "stdout",
     "output_type": "stream",
     "text": [
      "Loading Reuters corpus...\n",
      "Loaded 10788 documents\n",
      "DataFrame shape: (10788, 3)\n"
     ]
    }
   ],
   "source": [
    "def load_reuters_to_dataframe():\n",
    "    \"\"\"\n",
    "    Load all Reuters documents into a pandas DataFrame\n",
    "    \"\"\"\n",
    "    # Get all file IDs\n",
    "    file_ids = reuters.fileids()\n",
    "    \n",
    "    # Initialize lists to store data\n",
    "    documents = []\n",
    "    doc_ids = []\n",
    "    categories_list = []\n",
    "    \n",
    "    # Extract data from each document\n",
    "    for file_id in file_ids:\n",
    "        try:\n",
    "            # Get document text\n",
    "            doc_text = reuters.raw(file_id)\n",
    "            \n",
    "            # Get categories for this document\n",
    "            doc_categories = reuters.categories(file_id)\n",
    "            \n",
    "            # Store data\n",
    "            documents.append(doc_text)\n",
    "            doc_ids.append(file_id)\n",
    "            categories_list.append(doc_categories)\n",
    "            \n",
    "        except Exception as e:\n",
    "            print(f\"Error processing {file_id}: {e}\")\n",
    "            continue\n",
    "    \n",
    "    # Create DataFrame\n",
    "    df = pd.DataFrame({\n",
    "        'doc_id': doc_ids,\n",
    "        'text': documents,\n",
    "        'categories': categories_list\n",
    "    })\n",
    "    \n",
    "    return df\n",
    "\n",
    "# Load the data\n",
    "print(\"Loading Reuters corpus...\")\n",
    "reuters_df = load_reuters_to_dataframe()\n",
    "print(f\"Loaded {len(reuters_df)} documents\")\n",
    "print(f\"DataFrame shape: {reuters_df.shape}\")\n"
   ]
  },
  {
   "cell_type": "code",
   "execution_count": 4,
   "id": "10a9eb37",
   "metadata": {},
   "outputs": [
    {
     "data": {
      "text/html": [
       "<div>\n",
       "<style scoped>\n",
       "    .dataframe tbody tr th:only-of-type {\n",
       "        vertical-align: middle;\n",
       "    }\n",
       "\n",
       "    .dataframe tbody tr th {\n",
       "        vertical-align: top;\n",
       "    }\n",
       "\n",
       "    .dataframe thead th {\n",
       "        text-align: right;\n",
       "    }\n",
       "</style>\n",
       "<table border=\"1\" class=\"dataframe\">\n",
       "  <thead>\n",
       "    <tr style=\"text-align: right;\">\n",
       "      <th></th>\n",
       "      <th>doc_id</th>\n",
       "      <th>text</th>\n",
       "      <th>categories</th>\n",
       "    </tr>\n",
       "  </thead>\n",
       "  <tbody>\n",
       "    <tr>\n",
       "      <th>0</th>\n",
       "      <td>test/14826</td>\n",
       "      <td>ASIAN EXPORTERS FEAR DAMAGE FROM U.S.-JAPAN RI...</td>\n",
       "      <td>[trade]</td>\n",
       "    </tr>\n",
       "    <tr>\n",
       "      <th>1</th>\n",
       "      <td>test/14828</td>\n",
       "      <td>CHINA DAILY SAYS VERMIN EAT 7-12 PCT GRAIN STO...</td>\n",
       "      <td>[grain]</td>\n",
       "    </tr>\n",
       "    <tr>\n",
       "      <th>2</th>\n",
       "      <td>test/14829</td>\n",
       "      <td>JAPAN TO REVISE LONG-TERM ENERGY DEMAND DOWNWA...</td>\n",
       "      <td>[crude, nat-gas]</td>\n",
       "    </tr>\n",
       "    <tr>\n",
       "      <th>3</th>\n",
       "      <td>test/14832</td>\n",
       "      <td>THAI TRADE DEFICIT WIDENS IN FIRST QUARTER\\n  ...</td>\n",
       "      <td>[corn, grain, rice, rubber, sugar, tin, trade]</td>\n",
       "    </tr>\n",
       "    <tr>\n",
       "      <th>4</th>\n",
       "      <td>test/14833</td>\n",
       "      <td>INDONESIA SEES CPO PRICE RISING SHARPLY\\n  Ind...</td>\n",
       "      <td>[palm-oil, veg-oil]</td>\n",
       "    </tr>\n",
       "  </tbody>\n",
       "</table>\n",
       "</div>"
      ],
      "text/plain": [
       "       doc_id                                               text  \\\n",
       "0  test/14826  ASIAN EXPORTERS FEAR DAMAGE FROM U.S.-JAPAN RI...   \n",
       "1  test/14828  CHINA DAILY SAYS VERMIN EAT 7-12 PCT GRAIN STO...   \n",
       "2  test/14829  JAPAN TO REVISE LONG-TERM ENERGY DEMAND DOWNWA...   \n",
       "3  test/14832  THAI TRADE DEFICIT WIDENS IN FIRST QUARTER\\n  ...   \n",
       "4  test/14833  INDONESIA SEES CPO PRICE RISING SHARPLY\\n  Ind...   \n",
       "\n",
       "                                       categories  \n",
       "0                                         [trade]  \n",
       "1                                         [grain]  \n",
       "2                                [crude, nat-gas]  \n",
       "3  [corn, grain, rice, rubber, sugar, tin, trade]  \n",
       "4                             [palm-oil, veg-oil]  "
      ]
     },
     "execution_count": 4,
     "metadata": {},
     "output_type": "execute_result"
    }
   ],
   "source": [
    "# Printing some top rows\n",
    "reuters_df.head()\n"
   ]
  },
  {
   "cell_type": "code",
   "execution_count": 5,
   "id": "7dd63544",
   "metadata": {},
   "outputs": [
    {
     "name": "stdout",
     "output_type": "stream",
     "text": [
      "<class 'pandas.core.frame.DataFrame'>\n",
      "RangeIndex: 10788 entries, 0 to 10787\n",
      "Data columns (total 3 columns):\n",
      " #   Column      Non-Null Count  Dtype \n",
      "---  ------      --------------  ----- \n",
      " 0   doc_id      10788 non-null  object\n",
      " 1   text        10788 non-null  object\n",
      " 2   categories  10788 non-null  object\n",
      "dtypes: object(3)\n",
      "memory usage: 253.0+ KB\n"
     ]
    }
   ],
   "source": [
    "# Printing the info\n",
    "reuters_df.info()"
   ]
  },
  {
   "cell_type": "markdown",
   "id": "edbce3cc",
   "metadata": {},
   "source": [
    "# Text cleaning"
   ]
  },
  {
   "cell_type": "code",
   "execution_count": 6,
   "id": "855a1dab",
   "metadata": {},
   "outputs": [
    {
     "data": {
      "text/plain": [
       "'here we go again!'"
      ]
     },
     "execution_count": 6,
     "metadata": {},
     "output_type": "execute_result"
    }
   ],
   "source": [
    "# Text preprocessing functions\n",
    "def clean_text(text):\n",
    "    \"\"\"\n",
    "    Clean text by removing special characters, extra whitespace, etc.\n",
    "    \"\"\"\n",
    "    if not isinstance(text, str):\n",
    "        return \"\"\n",
    "    \n",
    "    # Remove HTML tags if any\n",
    "    text = re.sub(r'<[^>]+>', '', text)\n",
    "    \n",
    "    # Remove URLs\n",
    "    text = re.sub(r'http\\S+|www\\S+|https\\S+', '', text, flags=re.MULTILINE)\n",
    "    \n",
    "    # Remove email addresses\n",
    "    text = re.sub(r'\\S+@\\S+', '', text)\n",
    "    \n",
    "    # Remove extra whitespace and newlines\n",
    "    text = re.sub(r'\\s+', ' ', text)\n",
    "    \n",
    "    # Remove leading/trailing whitespace\n",
    "    text = text.strip()\n",
    "    # lower casing\n",
    "    text = text.lower()\n",
    "    \n",
    "    return text\n",
    "\n",
    "sample_string = \"http. here    we go again!   \"\n",
    "\n",
    "clean_text(sample_string)"
   ]
  },
  {
   "cell_type": "code",
   "execution_count": 7,
   "id": "b31de4cc",
   "metadata": {},
   "outputs": [
    {
     "data": {
      "text/html": [
       "<div>\n",
       "<style scoped>\n",
       "    .dataframe tbody tr th:only-of-type {\n",
       "        vertical-align: middle;\n",
       "    }\n",
       "\n",
       "    .dataframe tbody tr th {\n",
       "        vertical-align: top;\n",
       "    }\n",
       "\n",
       "    .dataframe thead th {\n",
       "        text-align: right;\n",
       "    }\n",
       "</style>\n",
       "<table border=\"1\" class=\"dataframe\">\n",
       "  <thead>\n",
       "    <tr style=\"text-align: right;\">\n",
       "      <th></th>\n",
       "      <th>doc_id</th>\n",
       "      <th>text</th>\n",
       "      <th>categories</th>\n",
       "      <th>cleaned_text</th>\n",
       "    </tr>\n",
       "  </thead>\n",
       "  <tbody>\n",
       "    <tr>\n",
       "      <th>0</th>\n",
       "      <td>test/14826</td>\n",
       "      <td>ASIAN EXPORTERS FEAR DAMAGE FROM U.S.-JAPAN RI...</td>\n",
       "      <td>[trade]</td>\n",
       "      <td>asian exporters fear damage from u.s.-japan ri...</td>\n",
       "    </tr>\n",
       "    <tr>\n",
       "      <th>1</th>\n",
       "      <td>test/14828</td>\n",
       "      <td>CHINA DAILY SAYS VERMIN EAT 7-12 PCT GRAIN STO...</td>\n",
       "      <td>[grain]</td>\n",
       "      <td>china daily says vermin eat 7-12 pct grain sto...</td>\n",
       "    </tr>\n",
       "    <tr>\n",
       "      <th>2</th>\n",
       "      <td>test/14829</td>\n",
       "      <td>JAPAN TO REVISE LONG-TERM ENERGY DEMAND DOWNWA...</td>\n",
       "      <td>[crude, nat-gas]</td>\n",
       "      <td>japan to revise long-term energy demand downwa...</td>\n",
       "    </tr>\n",
       "    <tr>\n",
       "      <th>3</th>\n",
       "      <td>test/14832</td>\n",
       "      <td>THAI TRADE DEFICIT WIDENS IN FIRST QUARTER\\n  ...</td>\n",
       "      <td>[corn, grain, rice, rubber, sugar, tin, trade]</td>\n",
       "      <td>thai trade deficit widens in first quarter tha...</td>\n",
       "    </tr>\n",
       "    <tr>\n",
       "      <th>4</th>\n",
       "      <td>test/14833</td>\n",
       "      <td>INDONESIA SEES CPO PRICE RISING SHARPLY\\n  Ind...</td>\n",
       "      <td>[palm-oil, veg-oil]</td>\n",
       "      <td>indonesia sees cpo price rising sharply indone...</td>\n",
       "    </tr>\n",
       "  </tbody>\n",
       "</table>\n",
       "</div>"
      ],
      "text/plain": [
       "       doc_id                                               text  \\\n",
       "0  test/14826  ASIAN EXPORTERS FEAR DAMAGE FROM U.S.-JAPAN RI...   \n",
       "1  test/14828  CHINA DAILY SAYS VERMIN EAT 7-12 PCT GRAIN STO...   \n",
       "2  test/14829  JAPAN TO REVISE LONG-TERM ENERGY DEMAND DOWNWA...   \n",
       "3  test/14832  THAI TRADE DEFICIT WIDENS IN FIRST QUARTER\\n  ...   \n",
       "4  test/14833  INDONESIA SEES CPO PRICE RISING SHARPLY\\n  Ind...   \n",
       "\n",
       "                                       categories  \\\n",
       "0                                         [trade]   \n",
       "1                                         [grain]   \n",
       "2                                [crude, nat-gas]   \n",
       "3  [corn, grain, rice, rubber, sugar, tin, trade]   \n",
       "4                             [palm-oil, veg-oil]   \n",
       "\n",
       "                                        cleaned_text  \n",
       "0  asian exporters fear damage from u.s.-japan ri...  \n",
       "1  china daily says vermin eat 7-12 pct grain sto...  \n",
       "2  japan to revise long-term energy demand downwa...  \n",
       "3  thai trade deficit widens in first quarter tha...  \n",
       "4  indonesia sees cpo price rising sharply indone...  "
      ]
     },
     "execution_count": 7,
     "metadata": {},
     "output_type": "execute_result"
    }
   ],
   "source": [
    "reuters_df['cleaned_text'] = reuters_df['text'].apply(\n",
    "    lambda x: clean_text(x)\n",
    ")\n",
    "\n",
    "reuters_df.head()"
   ]
  },
  {
   "cell_type": "code",
   "execution_count": 8,
   "id": "a0d2077a",
   "metadata": {},
   "outputs": [
    {
     "data": {
      "text/plain": [
       "'ASIAN EXPORTERS FEAR DAMAGE FROM U.S.-JAPAN RIFT\\n  Mounting trade friction between the\\n  U.S. And Japan has raised fears among many of Asia\\'s exporting\\n  nations that the row could inflict far-reaching economic\\n  damage, businessmen and officials said.\\n      They told Reuter correspondents in Asian capitals a U.S.\\n  Move against Japan might boost protectionist sentiment in the\\n  U.S. And lead to curbs on American imports of their products.\\n      But some exporters said that while the conflict would hurt\\n  them in the long-run, in the short-term Tokyo\\'s loss might be\\n  their gain.\\n      The U.S. Has said it will impose 300 mln dlrs of tariffs on\\n  imports of Japanese electronics goods on April 17, in\\n  retaliation for Japan\\'s alleged failure to stick to a pact not\\n  to sell semiconductors on world markets at below cost.\\n      Unofficial Japanese estimates put the impact of the tariffs\\n  at 10 billion dlrs and spokesmen for major electronics firms\\n  said they would virtually halt exports of products hit by the\\n  new taxes.\\n      \"We wouldn\\'t be able to do business,\" said a spokesman for\\n  leading Japanese electronics firm Matsushita Electric\\n  Industrial Co Ltd &lt;MC.T>.\\n      \"If the tariffs remain in place for any length of time\\n  beyond a few months it will mean the complete erosion of\\n  exports (of goods subject to tariffs) to the U.S.,\" said Tom\\n  Murtha, a stock analyst at the Tokyo office of broker &lt;James\\n  Capel and Co>.\\n      In Taiwan, businessmen and officials are also worried.\\n      \"We are aware of the seriousness of the U.S. Threat against\\n  Japan because it serves as a warning to us,\" said a senior\\n  Taiwanese trade official who asked not to be named.\\n      Taiwan had a trade trade surplus of 15.6 billion dlrs last\\n  year, 95 pct of it with the U.S.\\n      The surplus helped swell Taiwan\\'s foreign exchange reserves\\n  to 53 billion dlrs, among the world\\'s largest.\\n      \"We must quickly open our markets, remove trade barriers and\\n  cut import tariffs to allow imports of U.S. Products, if we\\n  want to defuse problems from possible U.S. Retaliation,\" said\\n  Paul Sheen, chairman of textile exporters &lt;Taiwan Safe Group>.\\n      A senior official of South Korea\\'s trade promotion\\n  association said the trade dispute between the U.S. And Japan\\n  might also lead to pressure on South Korea, whose chief exports\\n  are similar to those of Japan.\\n      Last year South Korea had a trade surplus of 7.1 billion\\n  dlrs with the U.S., Up from 4.9 billion dlrs in 1985.\\n      In Malaysia, trade officers and businessmen said tough\\n  curbs against Japan might allow hard-hit producers of\\n  semiconductors in third countries to expand their sales to the\\n  U.S.\\n      In Hong Kong, where newspapers have alleged Japan has been\\n  selling below-cost semiconductors, some electronics\\n  manufacturers share that view. But other businessmen said such\\n  a short-term commercial advantage would be outweighed by\\n  further U.S. Pressure to block imports.\\n      \"That is a very short-term view,\" said Lawrence Mills,\\n  director-general of the Federation of Hong Kong Industry.\\n      \"If the whole purpose is to prevent imports, one day it will\\n  be extended to other sources. Much more serious for Hong Kong\\n  is the disadvantage of action restraining trade,\" he said.\\n      The U.S. Last year was Hong Kong\\'s biggest export market,\\n  accounting for over 30 pct of domestically produced exports.\\n      The Australian government is awaiting the outcome of trade\\n  talks between the U.S. And Japan with interest and concern,\\n  Industry Minister John Button said in Canberra last Friday.\\n      \"This kind of deterioration in trade relations between two\\n  countries which are major trading partners of ours is a very\\n  serious matter,\" Button said.\\n      He said Australia\\'s concerns centred on coal and beef,\\n  Australia\\'s two largest exports to Japan and also significant\\n  U.S. Exports to that country.\\n      Meanwhile U.S.-Japanese diplomatic manoeuvres to solve the\\n  trade stand-off continue.\\n      Japan\\'s ruling Liberal Democratic Party yesterday outlined\\n  a package of economic measures to boost the Japanese economy.\\n      The measures proposed include a large supplementary budget\\n  and record public works spending in the first half of the\\n  financial year.\\n      They also call for stepped-up spending as an emergency\\n  measure to stimulate the economy despite Prime Minister\\n  Yasuhiro Nakasone\\'s avowed fiscal reform program.\\n      Deputy U.S. Trade Representative Michael Smith and Makoto\\n  Kuroda, Japan\\'s deputy minister of International Trade and\\n  Industry (MITI), are due to meet in Washington this week in an\\n  effort to end the dispute.\\n  \\n\\n'"
      ]
     },
     "execution_count": 8,
     "metadata": {},
     "output_type": "execute_result"
    }
   ],
   "source": [
    "reuters_df.iloc[0,1]"
   ]
  },
  {
   "cell_type": "code",
   "execution_count": 9,
   "id": "736ea5cf",
   "metadata": {},
   "outputs": [
    {
     "data": {
      "text/plain": [
       "'asian exporters fear damage from u.s.-japan rift mounting trade friction between the u.s. and japan has raised fears among many of asia\\'s exporting nations that the row could inflict far-reaching economic damage, businessmen and officials said. they told reuter correspondents in asian capitals a u.s. move against japan might boost protectionist sentiment in the u.s. and lead to curbs on american imports of their products. but some exporters said that while the conflict would hurt them in the long-run, in the short-term tokyo\\'s loss might be their gain. the u.s. has said it will impose 300 mln dlrs of tariffs on imports of japanese electronics goods on april 17, in retaliation for japan\\'s alleged failure to stick to a pact not to sell semiconductors on world markets at below cost. unofficial japanese estimates put the impact of the tariffs at 10 billion dlrs and spokesmen for major electronics firms said they would virtually halt exports of products hit by the new taxes. \"we wouldn\\'t be able to do business,\" said a spokesman for leading japanese electronics firm matsushita electric industrial co ltd &lt;mc.t>. \"if the tariffs remain in place for any length of time beyond a few months it will mean the complete erosion of exports (of goods subject to tariffs) to the u.s.,\" said tom murtha, a stock analyst at the tokyo office of broker &lt;james capel and co>. in taiwan, businessmen and officials are also worried. \"we are aware of the seriousness of the u.s. threat against japan because it serves as a warning to us,\" said a senior taiwanese trade official who asked not to be named. taiwan had a trade trade surplus of 15.6 billion dlrs last year, 95 pct of it with the u.s. the surplus helped swell taiwan\\'s foreign exchange reserves to 53 billion dlrs, among the world\\'s largest. \"we must quickly open our markets, remove trade barriers and cut import tariffs to allow imports of u.s. products, if we want to defuse problems from possible u.s. retaliation,\" said paul sheen, chairman of textile exporters &lt;taiwan safe group>. a senior official of south korea\\'s trade promotion association said the trade dispute between the u.s. and japan might also lead to pressure on south korea, whose chief exports are similar to those of japan. last year south korea had a trade surplus of 7.1 billion dlrs with the u.s., up from 4.9 billion dlrs in 1985. in malaysia, trade officers and businessmen said tough curbs against japan might allow hard-hit producers of semiconductors in third countries to expand their sales to the u.s. in hong kong, where newspapers have alleged japan has been selling below-cost semiconductors, some electronics manufacturers share that view. but other businessmen said such a short-term commercial advantage would be outweighed by further u.s. pressure to block imports. \"that is a very short-term view,\" said lawrence mills, director-general of the federation of hong kong industry. \"if the whole purpose is to prevent imports, one day it will be extended to other sources. much more serious for hong kong is the disadvantage of action restraining trade,\" he said. the u.s. last year was hong kong\\'s biggest export market, accounting for over 30 pct of domestically produced exports. the australian government is awaiting the outcome of trade talks between the u.s. and japan with interest and concern, industry minister john button said in canberra last friday. \"this kind of deterioration in trade relations between two countries which are major trading partners of ours is a very serious matter,\" button said. he said australia\\'s concerns centred on coal and beef, australia\\'s two largest exports to japan and also significant u.s. exports to that country. meanwhile u.s.-japanese diplomatic manoeuvres to solve the trade stand-off continue. japan\\'s ruling liberal democratic party yesterday outlined a package of economic measures to boost the japanese economy. the measures proposed include a large supplementary budget and record public works spending in the first half of the financial year. they also call for stepped-up spending as an emergency measure to stimulate the economy despite prime minister yasuhiro nakasone\\'s avowed fiscal reform program. deputy u.s. trade representative michael smith and makoto kuroda, japan\\'s deputy minister of international trade and industry (miti), are due to meet in washington this week in an effort to end the dispute.'"
      ]
     },
     "execution_count": 9,
     "metadata": {},
     "output_type": "execute_result"
    }
   ],
   "source": [
    "reuters_df.iloc[0,3]"
   ]
  },
  {
   "cell_type": "markdown",
   "id": "eadc723d",
   "metadata": {},
   "source": [
    "# nltk word tokenizer"
   ]
  },
  {
   "cell_type": "code",
   "execution_count": 10,
   "id": "5226f5ec",
   "metadata": {},
   "outputs": [],
   "source": [
    "# Initialize preprocessing tools\n",
    "stemmer = PorterStemmer()\n",
    "lemmatizer = WordNetLemmatizer()\n",
    "stop_words = set(stopwords.words('english'))"
   ]
  },
  {
   "cell_type": "code",
   "execution_count": 11,
   "id": "866ceae8",
   "metadata": {},
   "outputs": [
    {
     "data": {
      "text/plain": [
       "['go', 'example']"
      ]
     },
     "execution_count": 11,
     "metadata": {},
     "output_type": "execute_result"
    }
   ],
   "source": [
    "\n",
    "\n",
    "def tokenize_and_preprocess(text, remove_stopwords=True, lemmatize=True, stem=False):\n",
    "    \"\"\"\n",
    "    Tokenize and preprocess text\n",
    "    \"\"\"\n",
    "    if not isinstance(text, str):\n",
    "        return []\n",
    "    \n",
    "    # Clean text\n",
    "    text = clean_text(text)\n",
    "    \n",
    "    # Convert to lowercase\n",
    "    text = text.lower()\n",
    "    \n",
    "    # Tokenize\n",
    "    tokens = word_tokenize(text)\n",
    "    \n",
    "    # Remove punctuation and numbers\n",
    "    tokens = [token for token in tokens if token.isalpha()]\n",
    "    \n",
    "    # Remove stop words\n",
    "    if remove_stopwords:\n",
    "        tokens = [token for token in tokens if token not in stop_words]\n",
    "    \n",
    "    # Lemmatization (preferred over stemming)\n",
    "    if lemmatize:\n",
    "        tokens = [lemmatizer.lemmatize(token) for token in tokens]\n",
    "    elif stem:\n",
    "        tokens = [stemmer.stem(token) for token in tokens]\n",
    "    \n",
    "    # Remove empty tokens and short words (less than 2 characters)\n",
    "    tokens = [token for token in tokens if len(token) > 1]\n",
    "    \n",
    "    return tokens\n",
    "\n",
    "sample_string = \"http. here    we go again in this example!   \"\n",
    "\n",
    "tokenize_and_preprocess(sample_string)"
   ]
  },
  {
   "cell_type": "markdown",
   "id": "a2c887c7",
   "metadata": {},
   "source": [
    "# Some EDA"
   ]
  },
  {
   "cell_type": "code",
   "execution_count": 12,
   "id": "dac6791e",
   "metadata": {},
   "outputs": [
    {
     "data": {
      "text/html": [
       "<div>\n",
       "<style scoped>\n",
       "    .dataframe tbody tr th:only-of-type {\n",
       "        vertical-align: middle;\n",
       "    }\n",
       "\n",
       "    .dataframe tbody tr th {\n",
       "        vertical-align: top;\n",
       "    }\n",
       "\n",
       "    .dataframe thead th {\n",
       "        text-align: right;\n",
       "    }\n",
       "</style>\n",
       "<table border=\"1\" class=\"dataframe\">\n",
       "  <thead>\n",
       "    <tr style=\"text-align: right;\">\n",
       "      <th></th>\n",
       "      <th>doc_id</th>\n",
       "      <th>text</th>\n",
       "      <th>categories</th>\n",
       "      <th>cleaned_text</th>\n",
       "      <th>tonized_words</th>\n",
       "      <th>word_count</th>\n",
       "    </tr>\n",
       "  </thead>\n",
       "  <tbody>\n",
       "    <tr>\n",
       "      <th>0</th>\n",
       "      <td>test/14826</td>\n",
       "      <td>ASIAN EXPORTERS FEAR DAMAGE FROM U.S.-JAPAN RI...</td>\n",
       "      <td>[trade]</td>\n",
       "      <td>asian exporters fear damage from u.s.-japan ri...</td>\n",
       "      <td>[asian, exporter, fear, damage, rift, mounting...</td>\n",
       "      <td>419</td>\n",
       "    </tr>\n",
       "    <tr>\n",
       "      <th>1</th>\n",
       "      <td>test/14828</td>\n",
       "      <td>CHINA DAILY SAYS VERMIN EAT 7-12 PCT GRAIN STO...</td>\n",
       "      <td>[grain]</td>\n",
       "      <td>china daily says vermin eat 7-12 pct grain sto...</td>\n",
       "      <td>[china, daily, say, vermin, eat, pct, grain, s...</td>\n",
       "      <td>64</td>\n",
       "    </tr>\n",
       "    <tr>\n",
       "      <th>2</th>\n",
       "      <td>test/14829</td>\n",
       "      <td>JAPAN TO REVISE LONG-TERM ENERGY DEMAND DOWNWA...</td>\n",
       "      <td>[crude, nat-gas]</td>\n",
       "      <td>japan to revise long-term energy demand downwa...</td>\n",
       "      <td>[japan, revise, energy, demand, downwards, min...</td>\n",
       "      <td>104</td>\n",
       "    </tr>\n",
       "    <tr>\n",
       "      <th>3</th>\n",
       "      <td>test/14832</td>\n",
       "      <td>THAI TRADE DEFICIT WIDENS IN FIRST QUARTER\\n  ...</td>\n",
       "      <td>[corn, grain, rice, rubber, sugar, tin, trade]</td>\n",
       "      <td>thai trade deficit widens in first quarter tha...</td>\n",
       "      <td>[thai, trade, deficit, widens, first, quarter,...</td>\n",
       "      <td>98</td>\n",
       "    </tr>\n",
       "    <tr>\n",
       "      <th>4</th>\n",
       "      <td>test/14833</td>\n",
       "      <td>INDONESIA SEES CPO PRICE RISING SHARPLY\\n  Ind...</td>\n",
       "      <td>[palm-oil, veg-oil]</td>\n",
       "      <td>indonesia sees cpo price rising sharply indone...</td>\n",
       "      <td>[indonesia, see, cpo, price, rising, sharply, ...</td>\n",
       "      <td>103</td>\n",
       "    </tr>\n",
       "  </tbody>\n",
       "</table>\n",
       "</div>"
      ],
      "text/plain": [
       "       doc_id                                               text  \\\n",
       "0  test/14826  ASIAN EXPORTERS FEAR DAMAGE FROM U.S.-JAPAN RI...   \n",
       "1  test/14828  CHINA DAILY SAYS VERMIN EAT 7-12 PCT GRAIN STO...   \n",
       "2  test/14829  JAPAN TO REVISE LONG-TERM ENERGY DEMAND DOWNWA...   \n",
       "3  test/14832  THAI TRADE DEFICIT WIDENS IN FIRST QUARTER\\n  ...   \n",
       "4  test/14833  INDONESIA SEES CPO PRICE RISING SHARPLY\\n  Ind...   \n",
       "\n",
       "                                       categories  \\\n",
       "0                                         [trade]   \n",
       "1                                         [grain]   \n",
       "2                                [crude, nat-gas]   \n",
       "3  [corn, grain, rice, rubber, sugar, tin, trade]   \n",
       "4                             [palm-oil, veg-oil]   \n",
       "\n",
       "                                        cleaned_text  \\\n",
       "0  asian exporters fear damage from u.s.-japan ri...   \n",
       "1  china daily says vermin eat 7-12 pct grain sto...   \n",
       "2  japan to revise long-term energy demand downwa...   \n",
       "3  thai trade deficit widens in first quarter tha...   \n",
       "4  indonesia sees cpo price rising sharply indone...   \n",
       "\n",
       "                                       tonized_words  word_count  \n",
       "0  [asian, exporter, fear, damage, rift, mounting...         419  \n",
       "1  [china, daily, say, vermin, eat, pct, grain, s...          64  \n",
       "2  [japan, revise, energy, demand, downwards, min...         104  \n",
       "3  [thai, trade, deficit, widens, first, quarter,...          98  \n",
       "4  [indonesia, see, cpo, price, rising, sharply, ...         103  "
      ]
     },
     "execution_count": 12,
     "metadata": {},
     "output_type": "execute_result"
    }
   ],
   "source": [
    "\n",
    "\n",
    "reuters_df['tonized_words'] = reuters_df['text'].apply(\n",
    "    lambda x: tokenize_and_preprocess(x, remove_stopwords=True, lemmatize=True)\n",
    ")\n",
    "\n",
    "reuters_df['word_count'] = reuters_df['tonized_words'].apply(len)\n",
    "\n",
    "reuters_df.head()\n"
   ]
  },
  {
   "cell_type": "markdown",
   "id": "0f8b82af",
   "metadata": {},
   "source": [
    "## Making a plot"
   ]
  },
  {
   "cell_type": "code",
   "execution_count": 13,
   "id": "088a874e",
   "metadata": {},
   "outputs": [
    {
     "data": {
      "image/png": "[encoded data removed]",
      "text/plain": [
       "<Figure size 640x480 with 1 Axes>"
      ]
     },
     "metadata": {},
     "output_type": "display_data"
    }
   ],
   "source": [
    "\n",
    "median_val = reuters_df[\"word_count\"].median()\n",
    "p90_val = np.percentile(reuters_df[\"word_count\"], 90)\n",
    "p99_val = np.percentile(reuters_df[\"word_count\"], 99)\n",
    "p100_val = np.percentile(reuters_df[\"word_count\"], 100)\n",
    "\n",
    "# Histogram of word counts\n",
    "sns.histplot(reuters_df[\"word_count\"], bins=200, kde=False)\n",
    "\n",
    "plt.axvline(median_val, color='green', linestyle='--', linewidth=2, label=f'Median ({median_val:.0f})')\n",
    "plt.axvline(p90_val, color='orange', linestyle='--', linewidth=2, label=f'P90 ({p90_val:.0f})')\n",
    "plt.axvline(p99_val, color='red', linestyle='--', linewidth=2, label=f'P99 ({p99_val:.0f})')\n",
    "plt.axvline(p100_val, color='red', linestyle='--', linewidth=2, label=f'Max ({p100_val:.0f})')\n",
    "\n",
    "plt.xlabel(\"Number of Words per Row\")\n",
    "plt.ylabel(\"Frequency\")\n",
    "plt.title(\"Histogram of Word Counts per Text Row\")\n",
    "plt.legend()\n",
    "\n",
    "plt.savefig('../assets/word_frequency.png', transparent=False, dpi=300, bbox_inches=\"tight\")\n",
    "\n",
    "plt.show()"
   ]
  },
  {
   "cell_type": "code",
   "execution_count": null,
   "id": "bf0ce052",
   "metadata": {},
   "outputs": [],
   "source": []
  }
 ],
 "metadata": {
  "kernelspec": {
   "display_name": ".venv",
   "language": "python",
   "name": "python3"
  },
  "language_info": {
   "codemirror_mode": {
    "name": "ipython",
    "version": 3
   },
   "file_extension": ".py",
   "mimetype": "text/x-python",
   "name": "python",
   "nbconvert_exporter": "python",
   "pygments_lexer": "ipython3",
   "version": "3.12.4"
  }
 },
 "nbformat": 4,
 "nbformat_minor": 5
}
